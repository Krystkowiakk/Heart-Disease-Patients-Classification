{
 "cells": [
  {
   "cell_type": "markdown",
   "id": "80dc9406",
   "metadata": {},
   "source": [
    "# Classification on Heart Disease Indicators \n",
    "## Metis-Project-4-classification model for identifying high-risk patients\n",
    "\n",
    "Krystian Krystkowiak 2022"
   ]
  },
  {
   "cell_type": "markdown",
   "id": "108b7965",
   "metadata": {},
   "source": [
    "**Abstract:**\n",
    "\n",
    "The goal of this project was to establish a meaningfully predictive classification model for identifying high-risk patients. A model with acceptable recall (85%), precision, accuracy and F1 that may be utilised for more informed outreach. After trying, testing and tuning of couple different classification models and class imbalance techniques (necessary in that case). I visualised and communicated my findings during presentation, using Keynote and Tableau."
   ]
  },
  {
   "cell_type": "markdown",
   "id": "1525809b",
   "metadata": {},
   "source": [
    "**Design:**\n",
    "\n",
    "Our potential clients are doctors and medical institutions. Also wide range of businesses where heart disease may be concern: insurances, medical apps, fitness or nutritionist. It could be also use by individuals conscious about health.\n",
    "\n",
    "The dataset that originally comes from the CDC and is a major part of the Behavioural Risk Factor Surveillance System (BRFSS), which conducts annual telephone surveys to gather data on the health status of U.S. residents. BRFSS completes more than 400,000 adult interviews each year, making it the largest continuously conducted health survey system in the world.\". The most recent dataset (as of February 15, 2022) includes data from 2020. \n",
    "\n",
    "Our model can help to detect and prevent factors that have greatest impact on heart disease Machine learning methods to discover data regularities can help predict a patient's condition and raise red flag during initial questionnaire."
   ]
  },
  {
   "cell_type": "markdown",
   "id": "6ec1bcf2",
   "metadata": {},
   "source": [
    "**Data:**\n",
    "\n",
    "The dataset is initially cleaned by Kamil Pytlak, who shared it at Kaggle:\n",
    "www.kaggle.com/datasets/kamilpytlak/personal-key-indicators-of-heart-disease\n",
    "\n",
    "Over 319k observations. Individual row of data has 19 columns:\n",
    "\n",
    "HeartDisease (target), \n",
    "BMI, \n",
    "Smoking, \n",
    "AlcoholDrinking, \n",
    "Stroke, \n",
    "AlcoholDrinking, \n",
    "PhysicalHealth, \n",
    "MentalHealth, \n",
    "DiffWalking, \n",
    "Sex, \n",
    "AgeCategory, \n",
    "Race, \n",
    "Diabetic, \n",
    "PhysicalActivity, \n",
    "GenHealth, \n",
    "SleepTime, \n",
    "Asthma, \n",
    "KidneyDisease, \n",
    "SkinCancer"
   ]
  },
  {
   "cell_type": "markdown",
   "id": "12e5a9de",
   "metadata": {},
   "source": [
    "**Algorithms:**\n",
    "\n",
    "Filtering and cleaning data.\n",
    "\n",
    "Converting categorical features to binary dummy variables (categories and mechanics).\n",
    "\n",
    "Creating new features (not implemented in final models).\n",
    "\n",
    "Validation and testing: train_test_split\n",
    "The entire training dataset of 319795 records was split into train(231051)/val(40774)/test(47970), and all scores reported below were calculated on validation part and trained on the training portion only. Predictions on the test were limited to the very end, so this split was only used and scores seen just once.\n",
    "\n",
    "Regularization, Ensembling, Class imbalance techniques.\n",
    "As aim of the model is very sensitive, I used recall as my target classification rate (85%). As data was strongly imbalenced (8% of positive samples) - i used undersampling, class weights and tresholds to improve performance.\n",
    "\n",
    "Classification models: KNN, Logistic Regression, Random Forest, XGBoost, Naive Bayes.\n",
    "\n",
    "final XGBoost model:\n",
    "\n",
    "accuracy on validation set: 0.499\n",
    "\n",
    "accuracy on test set: 0.855\n",
    "\n",
    "precission on validation set: 0.190\n",
    "\n",
    "precission on test set: 0.193\n",
    "\n",
    "recall on validation set: 0.862\n",
    "\n",
    "recall on test set: 0.846\n",
    "\n",
    "F1 on validation set: 0.311\n",
    "\n",
    "F1 on test set: 0.315\n",
    "__________________________________________________ "
   ]
  },
  {
   "cell_type": "markdown",
   "id": "7cc00643",
   "metadata": {},
   "source": [
    "**Tools:**\n",
    "\n",
    "Python Pandas and Numpy for processing.\n",
    "\n",
    "Python packages for classification models (sklearn, xgboost, etc.)\n",
    "\n",
    "Python Seaborn and Plotly for visualization.\n",
    "\n",
    "Tableau and Keynote for visualization.\n",
    "\n"
   ]
  },
  {
   "cell_type": "markdown",
   "id": "443a9b89",
   "metadata": {},
   "source": [
    "**Communication:**\n",
    "\n",
    "5 minutes recorded video presentation with visualisation."
   ]
  }
 ],
 "metadata": {
  "kernelspec": {
   "display_name": "Python 3 (regression)",
   "language": "python",
   "name": "regression"
  },
  "language_info": {
   "codemirror_mode": {
    "name": "ipython",
    "version": 3
   },
   "file_extension": ".py",
   "mimetype": "text/x-python",
   "name": "python",
   "nbconvert_exporter": "python",
   "pygments_lexer": "ipython3",
   "version": "3.9.7"
  }
 },
 "nbformat": 4,
 "nbformat_minor": 5
}
