{
 "cells": [
  {
   "cell_type": "markdown",
   "id": "80dc9406",
   "metadata": {},
   "source": [
    "# Heart Disease Prediction \n",
    "## Metis Project 4 - Classification on Heart Disease Indicators\n",
    "Krystian Krystkowiak 2022"
   ]
  },
  {
   "cell_type": "markdown",
   "id": "ed532164",
   "metadata": {},
   "source": [
    "**Question/Need:**\n",
    "\n",
    "Our clients are doctors and medical institutions. Also wide range of businesses where heart disease may be concern: insurances, medical apps, fitness or nutritionist. It could be also use by individuals conscious about health.\n",
    "\n",
    "Our model can help to detect and prevent factors that have greatest impact on heart disease Machine learning methods to discover data regularities can help predict a patient's condition and raise red flag during initial questionnaire."
   ]
  },
  {
   "cell_type": "markdown",
   "id": "6ec1bcf2",
   "metadata": {},
   "source": [
    "**Data Description:**\n",
    "\n",
    "I intend to use the dataset that originally comes from the CDC and is a major part of the Behavioural Risk Factor Surveillance System (BRFSS), which conducts annual telephone surveys to gather data on the health status of U.S. residents. BRFSS completes more than 400,000 adult interviews each year, making it the largest continuously conducted health survey system in the world.\". The most recent dataset (as of February 15, 2022) includes data from 2020. The dataset is initially cleaned by Kamil Pytlak, who shared it at Kaggle:\n",
    "\n",
    "www.kaggle.com/datasets/kamilpytlak/personal-key-indicators-of-heart-disease\n",
    "\n",
    "Over 319 observations. Individual row of data has 19 columns. Our focus will be:\n",
    "\n",
    " - HeartDisease (target)\n",
    " - BMI\n",
    " - Smoking\n",
    " - AlcoholDrinking\n",
    " - Stroke\n",
    " - AlcoholDrinking\n",
    " - PhysicalHealth\n",
    " - MentalHealth\n",
    " - DiffWalking\n",
    " - Sex\n",
    " - AgeCategory\n",
    " - Race\n",
    " - Diabetic\n",
    " - PhysicalActivity\n",
    " - GenHealth\n",
    " - SleepTime\n",
    " - Asthma\n",
    " - KidneyDisease\n",
    " - SkinCancer"
   ]
  },
  {
   "cell_type": "markdown",
   "id": "7cc00643",
   "metadata": {},
   "source": [
    "**Tools:**\n",
    "\n",
    "Python Pandas and Numpy for processing. \n",
    "\n",
    "Python packages for classification models (sklearn, xgboost, etc.)\n",
    "\n",
    "Python Seaborn and Plotly for visualization.\n",
    "\n",
    "Tableau for visualization.\n",
    "\n"
   ]
  },
  {
   "cell_type": "markdown",
   "id": "443a9b89",
   "metadata": {},
   "source": [
    "**MVP Goal:**\n",
    "\n",
    "Initial models with up to 3 plots and preliminary conclusions."
   ]
  }
 ],
 "metadata": {
  "kernelspec": {
   "display_name": "Python 3 (ipykernel)",
   "language": "python",
   "name": "python3"
  },
  "language_info": {
   "codemirror_mode": {
    "name": "ipython",
    "version": 3
   },
   "file_extension": ".py",
   "mimetype": "text/x-python",
   "name": "python",
   "nbconvert_exporter": "python",
   "pygments_lexer": "ipython3",
   "version": "3.9.12"
  }
 },
 "nbformat": 4,
 "nbformat_minor": 5
}
